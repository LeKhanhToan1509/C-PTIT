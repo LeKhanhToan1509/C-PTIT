{
  "nbformat": 4,
  "nbformat_minor": 0,
  "metadata": {
    "colab": {
      "provenance": [],
      "authorship_tag": "ABX9TyOxpuLDyrxvDdT/fAlYD+g2",
      "include_colab_link": true
    },
    "kernelspec": {
      "name": "python3",
      "display_name": "Python 3"
    },
    "language_info": {
      "name": "python"
    }
  },
  "cells": [
    {
      "cell_type": "markdown",
      "metadata": {
        "id": "view-in-github",
        "colab_type": "text"
      },
      "source": [
        "<a href=\"https://colab.research.google.com/github/LeKhanhToan1509/C-PTIT/blob/master/Crawl_data.ipynb\" target=\"_parent\"><img src=\"https://colab.research.google.com/assets/colab-badge.svg\" alt=\"Open In Colab\"/></a>"
      ]
    },
    {
      "cell_type": "markdown",
      "source": [
        "**CÁC THƯ VIỆN CẦN SỬ DỤNG ĐỂ CRAWL DỮ LIỆU**\n",
        "\n",
        "1. **Requests** : Thư viện để gửi HTTP requests và nhận responses.\n",
        "  - **Ưu Điểm**:\n",
        "    1. Dễ sử dụng và hiểu\n",
        "    2. Hỗ trợ các loại HTTP requests cơ bản như GET, POST, PUT, DELETE, vv.\n",
        "    3. Phù hợp cho việc gửi yêu cầu và nhận phản hồi đơn giản từ các trang web\n",
        "  - **Nhược Điểm**:\n",
        "    1. Không hỗ trợ JavaScript, nên không thể sử dụng trên các trang web sử dụng JavaScript để tạo nội dung động.\n",
        "2. **BeautifulSoup**: Thư viện để parse HTML và XML, giúp trích xuất thông tin từ các trang web.\n",
        "  - **Ưu Điểm**:\n",
        "    1. Dễ sử dụng cho việc phân tích cú pháp HTML và XML.\n",
        "    2. Giúp trích xuất thông tin từ các thẻ HTML một cách thuận tiện.\n",
        "    3. Tích hợp tốt với các thư viện khác như Requests hoặc urllib.\n",
        "  - **Nhược Điểm**:\n",
        "    1. Không thể xử lý JavaScript, nên không phù hợp cho các trang web động sử dụng JavaScript.\n",
        "3. **Selenium**: Được sử dụng để tự động điều khiển trình duyệt, hữu ích khi trang web sử dụng JavaScript động.\n",
        " - **Ưu Điểm**:\n",
        "    1. Có khả năng tương tác với trình duyệt, giúp xử lý trang web động.\n",
        "    2. Hỗ trợ nhiều trình duyệt khác nhau.\n",
        "    3. Có thể chạy ẩn danh và tự động\n",
        "  - **Nhược Điểm**:\n",
        "    1. Tốn nhiều tài nguyên hơn so với Requests và Beautiful Soup.\n",
        "    2. Không phù hợp cho việc lấy dữ liệu từ nhiều trang web cùng một lúc.\n",
        "4. **Scrapy**: Framework mạnh mẽ và linh hoạt để crawl dữ liệu trên các trang web.\n",
        "  - **Ưu Điểm**:\n",
        "    1. Framework mạnh mẽ và linh hoạt cho việc crawl dữ liệu.\n",
        "    2. Tự động quản lý nhiều yêu cầu và tiện ích như giữ trạng thái, lưu trữ, và xử lý lỗi.\n",
        "  - **Nhược Điểm**:\n",
        "    1. Có độ khó sử dụng cao hơn so với các thư viện nhỏ hơn.\n",
        "    2. Yêu cầu thời gian học và hiểu biết tốt hơn về cách sử dụng.\n",
        "5. **lxml**: Thư viện cho xử lý XML và HTML, thường được sử dụng cùng với BeautifulSoup.\n",
        "  - **Ưu Điểm**:\n",
        "    1. Nhanh và hiệu quả cho việc xử lý XML và HTML.\n",
        "    2. Hỗ trợ XPath và XSLT.\n",
        "  - **Nhược Điểm**:\n",
        "    1. Không cung cấp các tính năng trích xuất thông tin như Beautiful Soup, chỉ chuyên về xử lý cú pháp.\n",
        "6. **Urllib**: Thư viện chuẩn của Python cho các công việc liên quan đến URL.\n",
        "  - **Ưu điểm**:\n",
        "    1. Là thư viện chuẩn của Python, không cần cài đặt thêm.\n",
        "    2. Dễ sử dụng cho các công việc cơ bản liên quan đến URL.\n",
        "  - **Nhược điểm**:\n",
        "    1. Giao diện không cung cấp nhiều tính năng tiện ích như Requests.\n",
        "    2. Không linh hoạt và mạnh mẽ như các thư viện và framework khác.\n",
        "Lưu ý: Trước khi cài đặt các thư viện, bạn cần có Python và pip đã được cài đặt trên máy tính của mình.\n"
      ],
      "metadata": {
        "id": "DFiBrbZW63P7"
      }
    },
    {
      "cell_type": "code",
      "source": [],
      "metadata": {
        "id": "snhpMP_xGerz"
      },
      "execution_count": null,
      "outputs": []
    },
    {
      "cell_type": "markdown",
      "source": [
        "**Step 1 :** Import các thư viện phù hợp với trang web mà bạn muốn lấy Data\n"
      ],
      "metadata": {
        "id": "B-VUOyr37eJ0"
      }
    },
    {
      "cell_type": "code",
      "execution_count": null,
      "metadata": {
        "id": "AQd_SevxwAXu"
      },
      "outputs": [],
      "source": [
        "import requests\n",
        "from bs4 import BeautifulSoup as bts\n",
        "\n",
        "# Ở đây mình sử dụng mẫu 2 thư viên Requests và BeautifulSoup để làm mẫu"
      ]
    },
    {
      "cell_type": "markdown",
      "source": [
        "**Step 2:** Lấy URL của trang web mà bạn muốn lấy Data:"
      ],
      "metadata": {
        "id": "xN2rDqlW8OoL"
      }
    },
    {
      "cell_type": "code",
      "source": [
        "url = 'https://vnexpress.net/nhung-dai-hoc-dau-tien-cong-bo-diem-chuan-nam-2022-4511498.html';\n",
        "res = requests.get(url);\n",
        "# res => response: phản hồi\n",
        "#in thử ra xem status_code của nó ra bao nhiêu ?\n",
        "print(res)"
      ],
      "metadata": {
        "id": "-NzGq3BpwDBM",
        "colab": {
          "base_uri": "https://localhost:8080/"
        },
        "outputId": "3800be2d-25ef-4141-b59a-78902e650a2c"
      },
      "execution_count": null,
      "outputs": [
        {
          "output_type": "stream",
          "name": "stdout",
          "text": [
            "<Response [200]>\n"
          ]
        }
      ]
    },
    {
      "cell_type": "markdown",
      "source": [
        "[Xem các status_code có thể trả về](https://www.w3.org/Protocols/rfc2616/rfc2616-sec10.html)"
      ],
      "metadata": {
        "id": "BqLDGNnU-pZw"
      }
    },
    {
      "cell_type": "markdown",
      "source": [
        "**Step 3:** Nếu Response hợp lệ, các bạn phân tích trang web và lấy ra thông tin bằng cách inspect website !\n",
        "\n",
        "\n",
        "\n"
      ],
      "metadata": {
        "id": "8ezfCtoy8xdC"
      }
    },
    {
      "cell_type": "code",
      "source": [
        "data = []\n",
        "tup = ()\n",
        "if res.status_code == 200:\n",
        "  soup = bts(res.content, 'html.parser')\n",
        "  table = soup.find('tbody')\n",
        "  if table:\n",
        "    rows = table.find_all('tr')\n",
        "    if rows:\n",
        "      for i in range(1, len(rows)):\n",
        "        item = rows[i].find_all('td')\n",
        "        pos = item[0].text.strip()\n",
        "        name = item[1].text.strip()\n",
        "        range_point = item[2].text.strip().replace('\\n', ' ')\n",
        "        tup = (pos, name, range_point)\n",
        "        data.append(tup)\n",
        "for item in data:\n",
        "  print(f\"{item[0]} \\t {item[1]} \\t {item[2]}\")\n",
        "\n"
      ],
      "metadata": {
        "colab": {
          "base_uri": "https://localhost:8080/"
        },
        "id": "Mtmq2K0gwmow",
        "outputId": "7618e0b1-23d3-435f-8b40-8436268158dd"
      },
      "execution_count": null,
      "outputs": [
        {
          "output_type": "stream",
          "name": "stdout",
          "text": [
            "1 \t Đại học Nha Trang \t 15,5-21\n",
            "2 \t Đại học Công nghệ TP HCM \t 17-21\n",
            "3 \t Đại học Kinh tế - Tài chính TP HCM \t 17-20\n",
            "4 \t Đại học Khoa học Xã hội và Nhân văn (Đại học Quốc gia Hà Nội) \t 20-29,95\n",
            "5 \t Đại học Thuỷ lợi \t 17-26,6\n",
            "6 \t Đại học Cảnh sát nhân dân \t 18,14-24,43 (theo công thức riêng)\n",
            "7 \t Học viện Ngân hàng \t 24-28,05\n",
            "8 \t Đại học Điều dưỡng Nam Định \t 19-19,5\n",
            "9 \t Đại học Y Dược (Đại học Quốc gia Hà Nội) \t 24,25-27,3\n",
            "10 \t Khoa Các khoa học liên ngành (Đại học Quốc gia Hà Nội) \t 23,9-26,76\n",
            "11 \t Đại học Công nghệ (Đại học Quốc gia Hà Nội) \t 22-29,15\n",
            "12 \t Trường Kinh tế (Đại học Quốc gia Hà Nội) \t 33,05-35,33 (thang điểm 40)\n",
            "13 \t Trường Quản trị và Kinh doanh (Đại học Quốc gia Hà Nội) \t 20,05-22,05\n",
            "14 \t Khoa Luật (Đại học Quốc gia Hà Nội) \t 22,62-28,25\n",
            "15 \t Đại học Khoa học Tự nhiên (Đại học Quốc gia Hà Nội) \t 20-26,45\n",
            "16 \t Đại học Thương mại \t 25,8-27\n",
            "17 \t Đại học Kinh tế quốc dân \t 26,1-28,6 (thang 30) 34,6-38,15 (thang 40)\n",
            "18 \t Đại học Việt Nhật (Đại học Quốc gia Hà Nội) \t 20-21,5\n",
            "19 \t Trường Quốc tế (Đại học Quốc gia Hà Nội \t 20-24\n",
            "20 \t Đại học Khoa học Tự nhiên (Đại học Quốc gia TP HCM \t 17-28,2\n",
            "21 \t Đại học Ngoại ngữ (Đại học Quốc gia Hà Nội \t 24,97-38,46 (thang 40)\n",
            "22 \t Đại học Giáo dục (Đại học Quốc gia Hà Nội) \t 20,75-28,55\n",
            "23 \t Đại học Bách khoa (Đại học Quốc gia TP HCM) \t 54,6-75,99 (theo công thức xét tuyển riêng)\n",
            "24 \t Đại học Công nghiệp Thực phẩm TP HCM \t 16-24\n",
            "25 \t Đại học Dược Hà Nội \t 22,95-26\n",
            "26 \t Đại học Ngoại thương \t 27-28,4 (thang 30) 34-36,6 (thang 40)\n",
            "27 \t Học viện Kỹ thuật mật mã \t 24,75-26,6\n",
            "28 \t Đại học Ngân hàng TP HCM \t 22,56-25,35\n",
            "29 \t Đại học Y Dược TP HCM \t 19,05-27,55\n",
            "30 \t Đại học Bách khoa Hà Nội \t 23,03-28,29\n",
            "31 \t Đại học Y Dược Cần Thơ \t 20-25,6\n",
            "32 \t Đại học Y Dược Thái Bình \t 19-26,3\n",
            "33 \t Đại học Công nghiệp Hà Nội \t 18,65-26,15\n",
            "34 \t Học viện Ngoại giao \t 25,15-29,25 (thang 30) 35,07 (thang 40)\n",
            "35 \t Đại học Kinh tế TP HCM \t 16-27,8\n",
            "36 \t Đại học Giao thông vận tải TP HCM \t 15-19\n",
            "37 \t Đại học Y Dược (Đại học Thái Nguyên) \t 19-26,75\n",
            "38 \t Đại học Luật (Đại học Huế) \t 19\n",
            "39 \t Đại học Ngoại ngữ (Đại học Huế) \t 15-23\n",
            "40 \t Đại học Kinh tế (Đại học Huế) \t 16-23\n",
            "41 \t Đại học Nông lâm (Đại học Huế) \t 15-20\n",
            "42 \t Đại học Nghệ thuật (Đại học Huế) \t 18-20\n",
            "43 \t Đại học Sư phạm (Đại học Huế) \t 15-26\n",
            "44 \t Đại học Khoa học (Đại học Huế) \t 15-17\n",
            "45 \t Đại học Y - Dược (Đại học Huế) \t 16-26,4\n",
            "46 \t Khoa Giáo dục thể chất (Đại học Huế) \t 19\n",
            "47 \t Trường Du lịch (Đại học Huế) \t 16-22\n",
            "48 \t Khoa Kỹ thuật và Công nghệ (Đại học Huế) \t 15,75-18,5\n",
            "49 \t Khoa Quốc tế (Đại học Huế) \t 16-21\n",
            "50 \t Phân hiệu Đại học Huế tại Quảng Trị \t 15-17\n",
            "51 \t Đại học Sư phạm Hà Nội \t 16,75-28,5\n",
            "52 \t Đại học Nông lâm TP HCM \t 16-23,5\n",
            "53 \t Đại học Công nghệ thông tin (Đại học Quốc gia TP HCM) \t 26,2-28,05\n",
            "54 \t Đại học Kinh tế - Luật (Đại học Quốc gia TP HCM) \t 23,4-27,55\n",
            "55 \t Đại học Mở Hà Nội \t 16,5-26,75 (thang 30) 24-31,77 (thang 40)\n",
            "56 \t Đại học Giao thông vận tải \t 16-26,25\n",
            "57 \t Đại học Xây dựng \t 16-25,4\n",
            "58 \t Đại học Kỹ thuật Y Dược Đà Nẵng \t 19,2-25,55\n",
            "59 \t Đại học Y tế công cộng \t 15-21,5\n",
            "60 \t Đại học Nội vụ \t 15-25,25\n",
            "61 \t Đại học Luật Hà Nội \t 19-29,5\n",
            "62 \t Học viện An ninh nhân dân \t 15,1-25,66 (theo công thức riêng)\n",
            "63 \t Đại học Luật TP HCM \t 22,5-27,5\n",
            "64 \t Học viện Cảnh sát nhân dân \t 15,98-25,6 (theo công thức riêng)\n",
            "65 \t Đại học Bách khoa (Đại học Đà Nẵng) \t 15-26,65\n",
            "66 \t Đại học Kinh tế (Đại học Đà Nẵng) \t 23-26,5\n",
            "67 \t Đại học Sư phạm (Đại học Đà Nẵng) \t 15,5-25,75\n",
            "68 \t Đại học Ngoại ngữ (Đại học Đà Nẵng) \t 15,1-26,34\n",
            "69 \t Đại học Sư phạm Kỹ thuật (Đại học Đà Nẵng) \t 15,04-24,6\n",
            "70 \t Đại học Công nghệ thông tin và Truyền thông Việt - Hàn (Đại học Đà Nẵng) \t 20,05-25\n",
            "71 \t Phân hiệu Đại học Đà Nẵng tại Kon Tum \t 15-22\n",
            "72 \t Viện Nghiên cứu và Đào tạo Việt - Anh (Đại học Đà Nẵng) \t 19\n",
            "73 \t Khoa Y Dược (Đại học Đà Nẵng) \t 19,1-25,7\n",
            "74 \t Đại học Khoa học và Công nghệ Hà Nội \t 22-25,75\n",
            "75 \t Đại học Kỹ thuật Y tế Hải Dương \t 19-25,4\n",
            "76 \t Đại học Tài nguyên và Môi trường TP HCM \t 19-30 (thang 40)\n",
            "77 \t Đại học Thăng Long \t 19-26,8\n",
            "78 \t Đại học Văn hóa Hà Nội \t 21,75-27,5 (thang 30) 31,85-33,18 (thang 40)\n",
            "79 \t Đại học Phòng cháy chữa cháy \t 17-20\n",
            "80 \t Học viện Khoa học Quân sự \t 22,82-29,79\n",
            "81 \t Học viện Chính trị Công an nhân dân \t 18,35-26,26 (theo công thức riêng)\n",
            "82 \t Đại học An ninh nhân dân \t 14,69-24,41 (theo công thức riêng)\n",
            "83 \t Đại học Kỹ thuật - Hậu cần Công an nhân dân \t 17,75-24,74 (theo công thức riêng)\n",
            "84 \t Học viện Quốc tế \t 17,45-23,26 (theo công thức riêng)\n",
            "85 \t Học viện Nông nghiệp Việt Nam \t 15-23\n",
            "86 \t Học viện Phòng không - Không quân \t 17,35-23,95\n",
            "87 \t Học viện Quân y \t 23,55-28,3\n",
            "88 \t Học viện Hậu cần \t 25,4-26,1\n",
            "89 \t Học viện Hải quân \t 23,7-23,75\n",
            "90 \t Học viện Biên phòng \t 19,8-28,75\n",
            "91 \t Trường Sĩ quan Lục quân 1 \t 24,55\n",
            "92 \t Trường Sĩ quan Lục quân 2 \t 23,6-24,8\n",
            "93 \t Trường Sĩ quan Chính trị \t 22,1-28,5\n",
            "94 \t Trường Sĩ quan Pháo binh \t 21,9-22,6\n",
            "95 \t Trường Sĩ quan Công binh \t 21,4-23,5\n",
            "96 \t Trường Sĩ quan thông tin \t 20,95-23,2\n",
            "97 \t Trường Sĩ quan Tăng thiết giáp \t 19-22,7\n",
            "98 \t Trường Sĩ quan Không quân \t 18,8\n",
            "99 \t Trường Sĩ quan Phòng hoá \t 20,5-22,15\n",
            "100 \t Trường Sĩ quan Đặc công \t 20,15-24\n",
            "101 \t Học viện Kỹ thuật Quân sự \t 24,4-28,15\n",
            "102 \t Đại học Sài Gòn \t 15,45-27,33\n",
            "103 \t Đại học Sư phạm Kỹ thuật TP HCM \t 17-26,75\n",
            "104 \t Đại học Mỏ - Địa chất \t 15-23,5\n",
            "105 \t Đại học Hà Nội \t 30,32-36,42 (thang 40)\n",
            "106 \t Đại học Khoa học Xã hội và Nhân văn (Đại học Quốc gia TP HCM) \t 20-28,25\n",
            "107 \t Đại học Y Hà Nội \t 19-28,15\n",
            "108 \t Đại học Y khoa Phạm Ngọc Thạch \t 18,01-26,65\n",
            "109 \t Đại học Kỹ thuật công nghiệp (Đại học Thái Nguyên) \t 15-20\n",
            "110 \t Đại học Kinh tế và Quản trị kinh doanh (Đại học Thái Nguyên) \t 16-18\n",
            "111 \t Đại học Nông lâm (Đại học Thái Nguyên) \t 15-20\n",
            "112 \t Đại học Sư phạm (Đại học Thái Nguyên) \t 16,5-27,5\n",
            "113 \t Đại học Y - Dược (Đại học Thái Nguyên) \t 19-26,75\n",
            "114 \t Đại học Khoa học (Đại học Thái Nguyên) \t 15-19\n",
            "115 \t Đại học Công nghệ thông tin và Truyền thông (Đại học Thái Nguyên) \t 16-19\n",
            "116 \t Trường Ngoại ngữ (Đại học Thái Nguyên) \t 16-24,4\n",
            "117 \t Khoa Quốc tế (Đại học Thái Nguyên) \t 15\n",
            "118 \t Phân hiệu Đại học Thái Nguyên tại tỉnh Lào Cai \t 14,5-22,2\n",
            "119 \t Đại học Sư phạm TP HCM \t 20,03-28,25\n",
            "120 \t Học viện Công nghệ Bưu chính viễn thông \t 19-27,25\n",
            "121 \t Học viện Báo chí và Tuyên truyền \t 22,8-29,25 (thang 30) 33,33-37,6 (thang 40)\n",
            "122 \t Học viện Tài chính \t 25,45-26,2 (thang 30) 32,95-34,32 (thang 40)\n",
            "123 \t Đại học Sư phạm Hà Nội 2 \t 24,3-38,67 (thang 40)\n"
          ]
        }
      ]
    },
    {
      "cell_type": "markdown",
      "source": [
        " 🚩 **Đây là cách dùng Selenium**\n"
      ],
      "metadata": {
        "id": "s9Kzrp2dOEER"
      }
    },
    {
      "cell_type": "markdown",
      "source": [
        "**Step 1** : Set up\n"
      ],
      "metadata": {
        "id": "Ny07CfojNvX6"
      }
    },
    {
      "cell_type": "code",
      "source": [
        "!pip install selenium\n",
        "from selenium import webdriver\n",
        "from selenium.webdriver.common.by import By\n",
        "import time"
      ],
      "metadata": {
        "colab": {
          "base_uri": "https://localhost:8080/"
        },
        "id": "WUzaHLnsLOnw",
        "outputId": "a3ee2b8f-5d88-4e2b-cc0c-c42648946216"
      },
      "execution_count": null,
      "outputs": [
        {
          "output_type": "stream",
          "name": "stdout",
          "text": [
            "Collecting selenium\n",
            "  Downloading selenium-4.15.2-py3-none-any.whl (10.2 MB)\n",
            "\u001b[2K     \u001b[90m━━━━━━━━━━━━━━━━━━━━━━━━━━━━━━━━━━━━━━━━\u001b[0m \u001b[32m10.2/10.2 MB\u001b[0m \u001b[31m69.5 MB/s\u001b[0m eta \u001b[36m0:00:00\u001b[0m\n",
            "\u001b[?25hRequirement already satisfied: urllib3[socks]<3,>=1.26 in /usr/local/lib/python3.10/dist-packages (from selenium) (2.0.7)\n",
            "Collecting trio~=0.17 (from selenium)\n",
            "  Downloading trio-0.23.1-py3-none-any.whl (448 kB)\n",
            "\u001b[2K     \u001b[90m━━━━━━━━━━━━━━━━━━━━━━━━━━━━━━━━━━━━━━━━\u001b[0m \u001b[32m448.3/448.3 kB\u001b[0m \u001b[31m50.8 MB/s\u001b[0m eta \u001b[36m0:00:00\u001b[0m\n",
            "\u001b[?25hCollecting trio-websocket~=0.9 (from selenium)\n",
            "  Downloading trio_websocket-0.11.1-py3-none-any.whl (17 kB)\n",
            "Requirement already satisfied: certifi>=2021.10.8 in /usr/local/lib/python3.10/dist-packages (from selenium) (2023.7.22)\n",
            "Requirement already satisfied: attrs>=20.1.0 in /usr/local/lib/python3.10/dist-packages (from trio~=0.17->selenium) (23.1.0)\n",
            "Requirement already satisfied: sortedcontainers in /usr/local/lib/python3.10/dist-packages (from trio~=0.17->selenium) (2.4.0)\n",
            "Requirement already satisfied: idna in /usr/local/lib/python3.10/dist-packages (from trio~=0.17->selenium) (3.4)\n",
            "Collecting outcome (from trio~=0.17->selenium)\n",
            "  Downloading outcome-1.3.0.post0-py2.py3-none-any.whl (10 kB)\n",
            "Requirement already satisfied: sniffio>=1.3.0 in /usr/local/lib/python3.10/dist-packages (from trio~=0.17->selenium) (1.3.0)\n",
            "Requirement already satisfied: exceptiongroup>=1.0.0rc9 in /usr/local/lib/python3.10/dist-packages (from trio~=0.17->selenium) (1.1.3)\n",
            "Collecting wsproto>=0.14 (from trio-websocket~=0.9->selenium)\n",
            "  Downloading wsproto-1.2.0-py3-none-any.whl (24 kB)\n",
            "Requirement already satisfied: pysocks!=1.5.7,<2.0,>=1.5.6 in /usr/local/lib/python3.10/dist-packages (from urllib3[socks]<3,>=1.26->selenium) (1.7.1)\n",
            "Collecting h11<1,>=0.9.0 (from wsproto>=0.14->trio-websocket~=0.9->selenium)\n",
            "  Downloading h11-0.14.0-py3-none-any.whl (58 kB)\n",
            "\u001b[2K     \u001b[90m━━━━━━━━━━━━━━━━━━━━━━━━━━━━━━━━━━━━━━━━\u001b[0m \u001b[32m58.3/58.3 kB\u001b[0m \u001b[31m10.4 MB/s\u001b[0m eta \u001b[36m0:00:00\u001b[0m\n",
            "\u001b[?25hInstalling collected packages: outcome, h11, wsproto, trio, trio-websocket, selenium\n",
            "Successfully installed h11-0.14.0 outcome-1.3.0.post0 selenium-4.15.2 trio-0.23.1 trio-websocket-0.11.1 wsproto-1.2.0\n"
          ]
        }
      ]
    },
    {
      "cell_type": "code",
      "source": [
        "driver = webdriver.Chrome()\n",
        "driver.get('https://khoahoc.vietjack.com/question/6686/neu-tat-ca-cac-duong-cheo-cua-da-giac-deu-canh-duoc-ve-thi-so-duong-cheo-la?fbclid=IwAR37_Vp-2k3cUeOwhvm6Tfs_9nfBCs91dpokBV_ac3EAHVEwrv-eCeYu5MY')\n",
        "\n",
        "# Cuộn trang xuống để tải thêm các comment\n",
        "last_height = driver.execute_script('return document.documentElement.scrollHeight')\n",
        "while True:\n",
        "    driver.execute_script('window.scrollTo(0, document.documentElement.scrollHeight);')\n",
        "    time.sleep(20)\n",
        "    new_height = driver.execute_script('return document.documentElement.scrollHeight')\n",
        "    if new_height == last_height:\n",
        "        break\n",
        "    last_height = new_height\n",
        "\n",
        "# Tìm các phần tử HTML chứa comment và reply bằng xpath\n",
        "comments = driver.find_elements(By.XPATH, '//*[@id=\"content-text\"]')\n",
        "replies = driver.find_elements(By.XPATH, '//*[@id=\"expander-inner\"]/div[1]/div[2]/yt-formatted-string')\n",
        "\n",
        "# Lưu các thông tin vào một danh sách các tuple\n",
        "comment_list = []\n",
        "for i in range(len(comments)):\n",
        "    comment = comments[i].text\n",
        "\n",
        "    # Kiểm tra độ dài của danh sách replies trước khi truy cập phần tử i\n",
        "    if i < len(replies):\n",
        "        reply = replies[i].text\n",
        "    else:\n",
        "        reply = ''\n",
        "\n",
        "    # Kiểm tra nếu comment có reply thì lưu cả comment và reply vào danh sách\n",
        "    comment_list.append((comment, '', ''))\n",
        "    if reply:\n",
        "        comment_list.append((reply, 'Reply', ''))\n",
        "\n",
        "# In ra danh sách các comment và phản hồi tương ứng\n",
        "for comment in comment_list:\n",
        "    print(comment)\n",
        "\n",
        "# Đóng trình duyệt\n",
        "driver.quit()"
      ],
      "metadata": {
        "id": "jvd7pnMoLWXc"
      },
      "execution_count": null,
      "outputs": []
    },
    {
      "cell_type": "markdown",
      "source": [
        "**Đẩy code lên Git**"
      ],
      "metadata": {
        "id": "w1De7AtOeiL7"
      }
    },
    {
      "cell_type": "code",
      "source": [
        "!apt-get install git\n"
      ],
      "metadata": {
        "colab": {
          "base_uri": "https://localhost:8080/"
        },
        "id": "S0JNd6tnh0IK",
        "outputId": "1dea574b-aee9-4dc5-8bd9-a93d927db13e"
      },
      "execution_count": 2,
      "outputs": [
        {
          "output_type": "stream",
          "name": "stdout",
          "text": [
            "Reading package lists... Done\n",
            "Building dependency tree... Done\n",
            "Reading state information... Done\n",
            "git is already the newest version (1:2.34.1-1ubuntu1.10).\n",
            "0 upgraded, 0 newly installed, 0 to remove and 6 not upgraded.\n"
          ]
        }
      ]
    },
    {
      "cell_type": "code",
      "source": [
        "!git clone git@github.com:HailamAICT/CV-Suggestion\n"
      ],
      "metadata": {
        "colab": {
          "base_uri": "https://localhost:8080/"
        },
        "id": "X4OnBiJxh_s5",
        "outputId": "fba62227-e8d0-4fcb-d01d-ec53032798f0"
      },
      "execution_count": 6,
      "outputs": [
        {
          "output_type": "stream",
          "name": "stdout",
          "text": [
            "Cloning into 'CV-Suggestion'...\n",
            "Host key verification failed.\r\n",
            "fatal: Could not read from remote repository.\n",
            "\n",
            "Please make sure you have the correct access rights\n",
            "and the repository exists.\n"
          ]
        }
      ]
    },
    {
      "cell_type": "code",
      "source": [],
      "metadata": {
        "id": "6BvdIeK_iT7t"
      },
      "execution_count": null,
      "outputs": []
    }
  ]
}